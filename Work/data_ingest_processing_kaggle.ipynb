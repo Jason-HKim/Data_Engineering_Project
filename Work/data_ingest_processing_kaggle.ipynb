{
 "cells": [
  {
   "cell_type": "code",
   "execution_count": 1,
   "id": "959ec912",
   "metadata": {},
   "outputs": [],
   "source": [
    "from sqlalchemy import create_engine, inspect\n",
    "import numpy as np\n",
    "import pandas as pd\n",
    "import pyspark\n",
    "import seaborn as sns\n",
    "import matplotlib.pyplot as plt\n",
    "spark = pyspark.sql.SparkSession.builder.getOrCreate()"
   ]
  },
  {
   "cell_type": "code",
   "execution_count": null,
   "id": "2b867cc0",
   "metadata": {},
   "outputs": [],
   "source": [
    "# engine = create_engine(\"sqlite:///alaska_oil_data.db\")\n",
    "# query = 'SELECT * FROM {} WHERE {};'\n",
    "\n",
    "# df_prod = pd.read_sql(query.format(\"production\", \"pool = 'PRUDHOE OIL' AND lower(ProductionMethod) NOT LIKE '%shut%' AND lower(WellStatus) NOT LIKE '%plug%'\"), engine)\n",
    "# df_inj = pd.read_sql(query.format(\"injection\", \"pool = 'PRUDHOE OIL' AND lower(InjectionType) NOT LIKE '%disposal%' AND lower(InjectionType) NOT LIKE '%storage%' AND lower(InjectionType) NOT LIKE '%shut%' AND lower(InjectionMethod) NOT LIKE '%shut%' AND lower(WellStatus) NOT LIKE '%abandon%'\"), engine)"
   ]
  },
  {
   "cell_type": "markdown",
   "id": "individual-heritage",
   "metadata": {},
   "source": [
    "## Creating Engine to Access Spotify Kaggle Database"
   ]
  },
  {
   "cell_type": "code",
   "execution_count": 2,
   "id": "f5540f80",
   "metadata": {},
   "outputs": [],
   "source": [
    "engine = create_engine(\"sqlite:///data/spotify_kaggle.db\")\n",
    "inspector = inspect(engine)"
   ]
  },
  {
   "cell_type": "code",
   "execution_count": 3,
   "id": "4ace8a7e",
   "metadata": {},
   "outputs": [
    {
     "data": {
      "text/plain": [
       "['artists', 'data_by_genres', 'data_by_year', 'tracks']"
      ]
     },
     "execution_count": 3,
     "metadata": {},
     "output_type": "execute_result"
    }
   ],
   "source": [
    "all_tables = inspector.get_table_names()\n",
    "all_tables"
   ]
  },
  {
   "cell_type": "code",
   "execution_count": null,
   "id": "a6a16326",
   "metadata": {
    "scrolled": true,
    "tags": []
   },
   "outputs": [],
   "source": [
    "# pd.read_sql('SELECT * FROM tracks;', engine)"
   ]
  },
  {
   "cell_type": "code",
   "execution_count": null,
   "id": "6d675cac",
   "metadata": {
    "scrolled": true
   },
   "outputs": [],
   "source": [
    "# pd.read_sql('SELECT * FROM data_by_genres;', engine)"
   ]
  },
  {
   "cell_type": "markdown",
   "id": "official-halifax",
   "metadata": {},
   "source": [
    "## Loading in Cleaning the Tracks, Artists, Data_By_Genres, and Data_By_Year DataFrames"
   ]
  },
  {
   "cell_type": "code",
   "execution_count": 4,
   "id": "congressional-significance",
   "metadata": {},
   "outputs": [],
   "source": [
    "initial_query = 'SELECT * FROM {};'"
   ]
  },
  {
   "cell_type": "code",
   "execution_count": null,
   "id": "0f16ba0f",
   "metadata": {},
   "outputs": [],
   "source": [
    "# query = 'SELECT * FROM {} WHERE {} ORDER BY {};'"
   ]
  },
  {
   "cell_type": "code",
   "execution_count": 5,
   "id": "applied-times",
   "metadata": {},
   "outputs": [],
   "source": [
    "tracks_df = pd.read_sql(initial_query.format('tracks'),engine)\n",
    "artists_df = pd.read_sql(initial_query.format('artists'), engine)\n",
    "data_by_genres_df = pd.read_sql(initial_query.format('data_by_genres'),engine)\n",
    "data_by_year_df = pd.read_sql(initial_query.format('data_by_year'),engine)"
   ]
  },
  {
   "cell_type": "markdown",
   "id": "serious-combine",
   "metadata": {},
   "source": [
    "## Cleaning tracks_df\n",
    "\n",
    "In this dataframe, we have 2 columns which contain lists. However, the lists are stored as strings, and which also preserves the extraneous quotation marks as part of the artists' names.\n",
    "\n",
    "We need to convert the list of artists for each song into a list with correct artist names, and strip for any extra spaces.\n",
    "\n",
    "We also need to convert the release date to datetime format."
   ]
  },
  {
   "cell_type": "code",
   "execution_count": null,
   "id": "severe-insertion",
   "metadata": {
    "scrolled": true
   },
   "outputs": [],
   "source": [
    "tracks_df"
   ]
  },
  {
   "cell_type": "code",
   "execution_count": null,
   "id": "plastic-eleven",
   "metadata": {
    "scrolled": true
   },
   "outputs": [],
   "source": [
    "# checking datatypes\n",
    "tracks_df.dtypes"
   ]
  },
  {
   "cell_type": "code",
   "execution_count": 6,
   "id": "stock-beaver",
   "metadata": {},
   "outputs": [],
   "source": [
    "def list_column_cleaner(df_list_column):\n",
    "    df_list_column = df_list_column.apply(lambda x: x[1:-1].split(','))\n",
    "    df_list_column = [[i.replace(\"'\", '').strip()for i in val_list] for val_list in df_list_column]\n",
    "    return df_list_column"
   ]
  },
  {
   "cell_type": "code",
   "execution_count": 7,
   "id": "nonprofit-square",
   "metadata": {},
   "outputs": [],
   "source": [
    "tracks_df['artists'] = list_column_cleaner(tracks_df['artists'])\n",
    "tracks_df['id_artists'] = list_column_cleaner(tracks_df['id_artists'])"
   ]
  },
  {
   "cell_type": "code",
   "execution_count": 8,
   "id": "automated-lambda",
   "metadata": {},
   "outputs": [
    {
     "data": {
      "text/plain": [
       "['Gentle Bones', 'Clara Benin']"
      ]
     },
     "execution_count": 8,
     "metadata": {},
     "output_type": "execute_result"
    }
   ],
   "source": [
    "tracks_df['artists'][586670]"
   ]
  },
  {
   "cell_type": "code",
   "execution_count": 9,
   "id": "round-clark",
   "metadata": {},
   "outputs": [
    {
     "data": {
      "text/plain": [
       "['4jGPdu95icCKVF31CcFKbS', '5ebPSE9YI5aLeZ1Z2gkqjn']"
      ]
     },
     "execution_count": 9,
     "metadata": {},
     "output_type": "execute_result"
    }
   ],
   "source": [
    "tracks_df['id_artists'][586670]"
   ]
  },
  {
   "cell_type": "code",
   "execution_count": null,
   "id": "exact-blame",
   "metadata": {},
   "outputs": [],
   "source": [
    "# tracks_df['release_date'] = pd.to_datetime(tracks_df['release_date'], format='%Y-%m-%d')"
   ]
  },
  {
   "cell_type": "code",
   "execution_count": null,
   "id": "electric-potter",
   "metadata": {},
   "outputs": [],
   "source": [
    "type(tracks_df['release_date'][0])"
   ]
  },
  {
   "cell_type": "code",
   "execution_count": 10,
   "id": "acb1d3d9",
   "metadata": {},
   "outputs": [
    {
     "data": {
      "text/plain": [
       "-8.026     116\n",
       "-4.470      95\n",
       "-5.797      95\n",
       "-5.584      81\n",
       "-7.348      80\n",
       "          ... \n",
       "-27.147      1\n",
       "-33.876      1\n",
       "-36.499      1\n",
       "-1.956       1\n",
       "-26.218      1\n",
       "Name: loudness, Length: 29196, dtype: int64"
      ]
     },
     "execution_count": 10,
     "metadata": {},
     "output_type": "execute_result"
    }
   ],
   "source": [
    "tracks_df['loudness'].value_counts()"
   ]
  },
  {
   "cell_type": "code",
   "execution_count": 11,
   "id": "63e51f69",
   "metadata": {},
   "outputs": [],
   "source": [
    "tracks_df['duration_sec'] = tracks_df['duration_ms']/1000"
   ]
  },
  {
   "cell_type": "code",
   "execution_count": 12,
   "id": "1dc3b964",
   "metadata": {},
   "outputs": [],
   "source": [
    "tracks_df = tracks_df.drop(columns=['duration_ms'])"
   ]
  },
  {
   "cell_type": "code",
   "execution_count": 13,
   "id": "1a71fe8f",
   "metadata": {
    "scrolled": true
   },
   "outputs": [
    {
     "data": {
      "text/html": [
       "<div>\n",
       "<style scoped>\n",
       "    .dataframe tbody tr th:only-of-type {\n",
       "        vertical-align: middle;\n",
       "    }\n",
       "\n",
       "    .dataframe tbody tr th {\n",
       "        vertical-align: top;\n",
       "    }\n",
       "\n",
       "    .dataframe thead th {\n",
       "        text-align: right;\n",
       "    }\n",
       "</style>\n",
       "<table border=\"1\" class=\"dataframe\">\n",
       "  <thead>\n",
       "    <tr style=\"text-align: right;\">\n",
       "      <th></th>\n",
       "      <th>id</th>\n",
       "      <th>name</th>\n",
       "      <th>popularity</th>\n",
       "      <th>explicit</th>\n",
       "      <th>artists</th>\n",
       "      <th>id_artists</th>\n",
       "      <th>release_date</th>\n",
       "      <th>danceability</th>\n",
       "      <th>energy</th>\n",
       "      <th>key</th>\n",
       "      <th>loudness</th>\n",
       "      <th>mode</th>\n",
       "      <th>speechiness</th>\n",
       "      <th>acousticness</th>\n",
       "      <th>instrumentalness</th>\n",
       "      <th>liveness</th>\n",
       "      <th>valence</th>\n",
       "      <th>tempo</th>\n",
       "      <th>time_signature</th>\n",
       "      <th>duration_sec</th>\n",
       "    </tr>\n",
       "  </thead>\n",
       "  <tbody>\n",
       "    <tr>\n",
       "      <th>0</th>\n",
       "      <td>35iwgR4jXetI318WEWsa1Q</td>\n",
       "      <td>Carve</td>\n",
       "      <td>6</td>\n",
       "      <td>0</td>\n",
       "      <td>[Uli]</td>\n",
       "      <td>[45tIt06XoI0Iio4LBEVpls]</td>\n",
       "      <td>1922-02-22</td>\n",
       "      <td>0.645</td>\n",
       "      <td>0.4450</td>\n",
       "      <td>0</td>\n",
       "      <td>-13.338</td>\n",
       "      <td>1</td>\n",
       "      <td>0.4510</td>\n",
       "      <td>0.674</td>\n",
       "      <td>0.744000</td>\n",
       "      <td>0.1510</td>\n",
       "      <td>0.1270</td>\n",
       "      <td>104.851</td>\n",
       "      <td>3</td>\n",
       "      <td>126.903</td>\n",
       "    </tr>\n",
       "    <tr>\n",
       "      <th>1</th>\n",
       "      <td>021ht4sdgPcrDgSk7JTbKY</td>\n",
       "      <td>Capítulo 2.16 - Banquero Anarquista</td>\n",
       "      <td>0</td>\n",
       "      <td>0</td>\n",
       "      <td>[Fernando Pessoa]</td>\n",
       "      <td>[14jtPCOoNZwquk5wd9DxrY]</td>\n",
       "      <td>1922-06-01</td>\n",
       "      <td>0.695</td>\n",
       "      <td>0.2630</td>\n",
       "      <td>0</td>\n",
       "      <td>-22.136</td>\n",
       "      <td>1</td>\n",
       "      <td>0.9570</td>\n",
       "      <td>0.797</td>\n",
       "      <td>0.000000</td>\n",
       "      <td>0.1480</td>\n",
       "      <td>0.6550</td>\n",
       "      <td>102.009</td>\n",
       "      <td>1</td>\n",
       "      <td>98.200</td>\n",
       "    </tr>\n",
       "    <tr>\n",
       "      <th>2</th>\n",
       "      <td>07A5yehtSnoedViJAZkNnc</td>\n",
       "      <td>Vivo para Quererte - Remasterizado</td>\n",
       "      <td>0</td>\n",
       "      <td>0</td>\n",
       "      <td>[Ignacio Corsini]</td>\n",
       "      <td>[5LiOoJbxVSAMkBS2fUm3X2]</td>\n",
       "      <td>1922-03-21</td>\n",
       "      <td>0.434</td>\n",
       "      <td>0.1770</td>\n",
       "      <td>1</td>\n",
       "      <td>-21.180</td>\n",
       "      <td>1</td>\n",
       "      <td>0.0512</td>\n",
       "      <td>0.994</td>\n",
       "      <td>0.021800</td>\n",
       "      <td>0.2120</td>\n",
       "      <td>0.4570</td>\n",
       "      <td>130.418</td>\n",
       "      <td>5</td>\n",
       "      <td>181.640</td>\n",
       "    </tr>\n",
       "    <tr>\n",
       "      <th>3</th>\n",
       "      <td>08FmqUhxtyLTn6pAh6bk45</td>\n",
       "      <td>El Prisionero - Remasterizado</td>\n",
       "      <td>0</td>\n",
       "      <td>0</td>\n",
       "      <td>[Ignacio Corsini]</td>\n",
       "      <td>[5LiOoJbxVSAMkBS2fUm3X2]</td>\n",
       "      <td>1922-03-21</td>\n",
       "      <td>0.321</td>\n",
       "      <td>0.0946</td>\n",
       "      <td>7</td>\n",
       "      <td>-27.961</td>\n",
       "      <td>1</td>\n",
       "      <td>0.0504</td>\n",
       "      <td>0.995</td>\n",
       "      <td>0.918000</td>\n",
       "      <td>0.1040</td>\n",
       "      <td>0.3970</td>\n",
       "      <td>169.980</td>\n",
       "      <td>3</td>\n",
       "      <td>176.907</td>\n",
       "    </tr>\n",
       "    <tr>\n",
       "      <th>4</th>\n",
       "      <td>08y9GfoqCWfOGsKdwojr5e</td>\n",
       "      <td>Lady of the Evening</td>\n",
       "      <td>0</td>\n",
       "      <td>0</td>\n",
       "      <td>[Dick Haymes]</td>\n",
       "      <td>[3BiJGZsyX9sJchTqcSA7Su]</td>\n",
       "      <td>1922</td>\n",
       "      <td>0.402</td>\n",
       "      <td>0.1580</td>\n",
       "      <td>3</td>\n",
       "      <td>-16.900</td>\n",
       "      <td>0</td>\n",
       "      <td>0.0390</td>\n",
       "      <td>0.989</td>\n",
       "      <td>0.130000</td>\n",
       "      <td>0.3110</td>\n",
       "      <td>0.1960</td>\n",
       "      <td>103.220</td>\n",
       "      <td>4</td>\n",
       "      <td>163.080</td>\n",
       "    </tr>\n",
       "    <tr>\n",
       "      <th>...</th>\n",
       "      <td>...</td>\n",
       "      <td>...</td>\n",
       "      <td>...</td>\n",
       "      <td>...</td>\n",
       "      <td>...</td>\n",
       "      <td>...</td>\n",
       "      <td>...</td>\n",
       "      <td>...</td>\n",
       "      <td>...</td>\n",
       "      <td>...</td>\n",
       "      <td>...</td>\n",
       "      <td>...</td>\n",
       "      <td>...</td>\n",
       "      <td>...</td>\n",
       "      <td>...</td>\n",
       "      <td>...</td>\n",
       "      <td>...</td>\n",
       "      <td>...</td>\n",
       "      <td>...</td>\n",
       "      <td>...</td>\n",
       "    </tr>\n",
       "    <tr>\n",
       "      <th>586667</th>\n",
       "      <td>5rgu12WBIHQtvej2MdHSH0</td>\n",
       "      <td>云与海</td>\n",
       "      <td>50</td>\n",
       "      <td>0</td>\n",
       "      <td>[阿YueYue]</td>\n",
       "      <td>[1QLBXKM5GCpyQQSVMNZqrZ]</td>\n",
       "      <td>2020-09-26</td>\n",
       "      <td>0.560</td>\n",
       "      <td>0.5180</td>\n",
       "      <td>0</td>\n",
       "      <td>-7.471</td>\n",
       "      <td>0</td>\n",
       "      <td>0.0292</td>\n",
       "      <td>0.785</td>\n",
       "      <td>0.000000</td>\n",
       "      <td>0.0648</td>\n",
       "      <td>0.2110</td>\n",
       "      <td>131.896</td>\n",
       "      <td>4</td>\n",
       "      <td>258.267</td>\n",
       "    </tr>\n",
       "    <tr>\n",
       "      <th>586668</th>\n",
       "      <td>0NuWgxEp51CutD2pJoF4OM</td>\n",
       "      <td>blind</td>\n",
       "      <td>72</td>\n",
       "      <td>0</td>\n",
       "      <td>[ROLE MODEL]</td>\n",
       "      <td>[1dy5WNgIKQU6ezkpZs4y8z]</td>\n",
       "      <td>2020-10-21</td>\n",
       "      <td>0.765</td>\n",
       "      <td>0.6630</td>\n",
       "      <td>0</td>\n",
       "      <td>-5.223</td>\n",
       "      <td>1</td>\n",
       "      <td>0.0652</td>\n",
       "      <td>0.141</td>\n",
       "      <td>0.000297</td>\n",
       "      <td>0.0924</td>\n",
       "      <td>0.6860</td>\n",
       "      <td>150.091</td>\n",
       "      <td>4</td>\n",
       "      <td>153.293</td>\n",
       "    </tr>\n",
       "    <tr>\n",
       "      <th>586669</th>\n",
       "      <td>27Y1N4Q4U3EfDU5Ubw8ws2</td>\n",
       "      <td>What They'll Say About Us</td>\n",
       "      <td>70</td>\n",
       "      <td>0</td>\n",
       "      <td>[FINNEAS]</td>\n",
       "      <td>[37M5pPGs6V1fchFJSgCguX]</td>\n",
       "      <td>2020-09-02</td>\n",
       "      <td>0.535</td>\n",
       "      <td>0.3140</td>\n",
       "      <td>7</td>\n",
       "      <td>-12.823</td>\n",
       "      <td>0</td>\n",
       "      <td>0.0408</td>\n",
       "      <td>0.895</td>\n",
       "      <td>0.000150</td>\n",
       "      <td>0.0874</td>\n",
       "      <td>0.0663</td>\n",
       "      <td>145.095</td>\n",
       "      <td>4</td>\n",
       "      <td>187.601</td>\n",
       "    </tr>\n",
       "    <tr>\n",
       "      <th>586670</th>\n",
       "      <td>45XJsGpFTyzbzeWK8VzR8S</td>\n",
       "      <td>A Day At A Time</td>\n",
       "      <td>58</td>\n",
       "      <td>0</td>\n",
       "      <td>[Gentle Bones, Clara Benin]</td>\n",
       "      <td>[4jGPdu95icCKVF31CcFKbS, 5ebPSE9YI5aLeZ1Z2gkqjn]</td>\n",
       "      <td>2021-03-05</td>\n",
       "      <td>0.696</td>\n",
       "      <td>0.6150</td>\n",
       "      <td>10</td>\n",
       "      <td>-6.212</td>\n",
       "      <td>1</td>\n",
       "      <td>0.0345</td>\n",
       "      <td>0.206</td>\n",
       "      <td>0.000003</td>\n",
       "      <td>0.3050</td>\n",
       "      <td>0.4380</td>\n",
       "      <td>90.029</td>\n",
       "      <td>4</td>\n",
       "      <td>142.003</td>\n",
       "    </tr>\n",
       "    <tr>\n",
       "      <th>586671</th>\n",
       "      <td>5Ocn6dZ3BJFPWh4ylwFXtn</td>\n",
       "      <td>Mar de Emociones</td>\n",
       "      <td>38</td>\n",
       "      <td>0</td>\n",
       "      <td>[Afrosound]</td>\n",
       "      <td>[0i4Qda0k4nf7jnNHmSNpYv]</td>\n",
       "      <td>2015-07-01</td>\n",
       "      <td>0.686</td>\n",
       "      <td>0.7230</td>\n",
       "      <td>6</td>\n",
       "      <td>-7.067</td>\n",
       "      <td>1</td>\n",
       "      <td>0.0363</td>\n",
       "      <td>0.105</td>\n",
       "      <td>0.000000</td>\n",
       "      <td>0.2640</td>\n",
       "      <td>0.9750</td>\n",
       "      <td>112.204</td>\n",
       "      <td>4</td>\n",
       "      <td>214.360</td>\n",
       "    </tr>\n",
       "  </tbody>\n",
       "</table>\n",
       "<p>586672 rows × 20 columns</p>\n",
       "</div>"
      ],
      "text/plain": [
       "                            id                                 name  \\\n",
       "0       35iwgR4jXetI318WEWsa1Q                                Carve   \n",
       "1       021ht4sdgPcrDgSk7JTbKY  Capítulo 2.16 - Banquero Anarquista   \n",
       "2       07A5yehtSnoedViJAZkNnc   Vivo para Quererte - Remasterizado   \n",
       "3       08FmqUhxtyLTn6pAh6bk45        El Prisionero - Remasterizado   \n",
       "4       08y9GfoqCWfOGsKdwojr5e                  Lady of the Evening   \n",
       "...                        ...                                  ...   \n",
       "586667  5rgu12WBIHQtvej2MdHSH0                                  云与海   \n",
       "586668  0NuWgxEp51CutD2pJoF4OM                                blind   \n",
       "586669  27Y1N4Q4U3EfDU5Ubw8ws2            What They'll Say About Us   \n",
       "586670  45XJsGpFTyzbzeWK8VzR8S                      A Day At A Time   \n",
       "586671  5Ocn6dZ3BJFPWh4ylwFXtn                     Mar de Emociones   \n",
       "\n",
       "        popularity  explicit                      artists  \\\n",
       "0                6         0                        [Uli]   \n",
       "1                0         0            [Fernando Pessoa]   \n",
       "2                0         0            [Ignacio Corsini]   \n",
       "3                0         0            [Ignacio Corsini]   \n",
       "4                0         0                [Dick Haymes]   \n",
       "...            ...       ...                          ...   \n",
       "586667          50         0                    [阿YueYue]   \n",
       "586668          72         0                 [ROLE MODEL]   \n",
       "586669          70         0                    [FINNEAS]   \n",
       "586670          58         0  [Gentle Bones, Clara Benin]   \n",
       "586671          38         0                  [Afrosound]   \n",
       "\n",
       "                                              id_artists release_date  \\\n",
       "0                               [45tIt06XoI0Iio4LBEVpls]   1922-02-22   \n",
       "1                               [14jtPCOoNZwquk5wd9DxrY]   1922-06-01   \n",
       "2                               [5LiOoJbxVSAMkBS2fUm3X2]   1922-03-21   \n",
       "3                               [5LiOoJbxVSAMkBS2fUm3X2]   1922-03-21   \n",
       "4                               [3BiJGZsyX9sJchTqcSA7Su]         1922   \n",
       "...                                                  ...          ...   \n",
       "586667                          [1QLBXKM5GCpyQQSVMNZqrZ]   2020-09-26   \n",
       "586668                          [1dy5WNgIKQU6ezkpZs4y8z]   2020-10-21   \n",
       "586669                          [37M5pPGs6V1fchFJSgCguX]   2020-09-02   \n",
       "586670  [4jGPdu95icCKVF31CcFKbS, 5ebPSE9YI5aLeZ1Z2gkqjn]   2021-03-05   \n",
       "586671                          [0i4Qda0k4nf7jnNHmSNpYv]   2015-07-01   \n",
       "\n",
       "        danceability  energy  key  loudness  mode  speechiness  acousticness  \\\n",
       "0              0.645  0.4450    0   -13.338     1       0.4510         0.674   \n",
       "1              0.695  0.2630    0   -22.136     1       0.9570         0.797   \n",
       "2              0.434  0.1770    1   -21.180     1       0.0512         0.994   \n",
       "3              0.321  0.0946    7   -27.961     1       0.0504         0.995   \n",
       "4              0.402  0.1580    3   -16.900     0       0.0390         0.989   \n",
       "...              ...     ...  ...       ...   ...          ...           ...   \n",
       "586667         0.560  0.5180    0    -7.471     0       0.0292         0.785   \n",
       "586668         0.765  0.6630    0    -5.223     1       0.0652         0.141   \n",
       "586669         0.535  0.3140    7   -12.823     0       0.0408         0.895   \n",
       "586670         0.696  0.6150   10    -6.212     1       0.0345         0.206   \n",
       "586671         0.686  0.7230    6    -7.067     1       0.0363         0.105   \n",
       "\n",
       "        instrumentalness  liveness  valence    tempo  time_signature  \\\n",
       "0               0.744000    0.1510   0.1270  104.851               3   \n",
       "1               0.000000    0.1480   0.6550  102.009               1   \n",
       "2               0.021800    0.2120   0.4570  130.418               5   \n",
       "3               0.918000    0.1040   0.3970  169.980               3   \n",
       "4               0.130000    0.3110   0.1960  103.220               4   \n",
       "...                  ...       ...      ...      ...             ...   \n",
       "586667          0.000000    0.0648   0.2110  131.896               4   \n",
       "586668          0.000297    0.0924   0.6860  150.091               4   \n",
       "586669          0.000150    0.0874   0.0663  145.095               4   \n",
       "586670          0.000003    0.3050   0.4380   90.029               4   \n",
       "586671          0.000000    0.2640   0.9750  112.204               4   \n",
       "\n",
       "        duration_sec  \n",
       "0            126.903  \n",
       "1             98.200  \n",
       "2            181.640  \n",
       "3            176.907  \n",
       "4            163.080  \n",
       "...              ...  \n",
       "586667       258.267  \n",
       "586668       153.293  \n",
       "586669       187.601  \n",
       "586670       142.003  \n",
       "586671       214.360  \n",
       "\n",
       "[586672 rows x 20 columns]"
      ]
     },
     "execution_count": 13,
     "metadata": {},
     "output_type": "execute_result"
    }
   ],
   "source": [
    "tracks_df"
   ]
  },
  {
   "cell_type": "markdown",
   "id": "occupied-analysis",
   "metadata": {},
   "source": [
    "## Cleaning artists_df\n",
    "Similarly to tracks_df, artists_df contains a column of lists (genres) that needs to be cleaned."
   ]
  },
  {
   "cell_type": "code",
   "execution_count": 14,
   "id": "primary-bunch",
   "metadata": {
    "scrolled": true
   },
   "outputs": [
    {
     "data": {
      "text/html": [
       "<div>\n",
       "<style scoped>\n",
       "    .dataframe tbody tr th:only-of-type {\n",
       "        vertical-align: middle;\n",
       "    }\n",
       "\n",
       "    .dataframe tbody tr th {\n",
       "        vertical-align: top;\n",
       "    }\n",
       "\n",
       "    .dataframe thead th {\n",
       "        text-align: right;\n",
       "    }\n",
       "</style>\n",
       "<table border=\"1\" class=\"dataframe\">\n",
       "  <thead>\n",
       "    <tr style=\"text-align: right;\">\n",
       "      <th></th>\n",
       "      <th>id</th>\n",
       "      <th>followers</th>\n",
       "      <th>genres</th>\n",
       "      <th>name</th>\n",
       "      <th>popularity</th>\n",
       "    </tr>\n",
       "  </thead>\n",
       "  <tbody>\n",
       "    <tr>\n",
       "      <th>0</th>\n",
       "      <td>0DheY5irMjBUeLybbCUEZ2</td>\n",
       "      <td>0.0</td>\n",
       "      <td>[]</td>\n",
       "      <td>Armid &amp; Amir Zare Pashai feat. Sara Rouzbehani</td>\n",
       "      <td>0</td>\n",
       "    </tr>\n",
       "    <tr>\n",
       "      <th>1</th>\n",
       "      <td>0DlhY15l3wsrnlfGio2bjU</td>\n",
       "      <td>5.0</td>\n",
       "      <td>[]</td>\n",
       "      <td>ปูนา ภาวิณี</td>\n",
       "      <td>0</td>\n",
       "    </tr>\n",
       "    <tr>\n",
       "      <th>2</th>\n",
       "      <td>0DmRESX2JknGPQyO15yxg7</td>\n",
       "      <td>0.0</td>\n",
       "      <td>[]</td>\n",
       "      <td>Sadaa</td>\n",
       "      <td>0</td>\n",
       "    </tr>\n",
       "    <tr>\n",
       "      <th>3</th>\n",
       "      <td>0DmhnbHjm1qw6NCYPeZNgJ</td>\n",
       "      <td>0.0</td>\n",
       "      <td>[]</td>\n",
       "      <td>Tra'gruda</td>\n",
       "      <td>0</td>\n",
       "    </tr>\n",
       "    <tr>\n",
       "      <th>4</th>\n",
       "      <td>0Dn11fWM7vHQ3rinvWEl4E</td>\n",
       "      <td>2.0</td>\n",
       "      <td>[]</td>\n",
       "      <td>Ioannis Panoutsopoulos</td>\n",
       "      <td>0</td>\n",
       "    </tr>\n",
       "    <tr>\n",
       "      <th>...</th>\n",
       "      <td>...</td>\n",
       "      <td>...</td>\n",
       "      <td>...</td>\n",
       "      <td>...</td>\n",
       "      <td>...</td>\n",
       "    </tr>\n",
       "    <tr>\n",
       "      <th>1104344</th>\n",
       "      <td>6rJIG42vcWAf1UBdRFlQxB</td>\n",
       "      <td>3345.0</td>\n",
       "      <td>[]</td>\n",
       "      <td>Cody Longo</td>\n",
       "      <td>8</td>\n",
       "    </tr>\n",
       "    <tr>\n",
       "      <th>1104345</th>\n",
       "      <td>1ljurfXKPlGncNdW3J8zJ8</td>\n",
       "      <td>2123.0</td>\n",
       "      <td>['deep acoustic pop']</td>\n",
       "      <td>Right the Stars</td>\n",
       "      <td>18</td>\n",
       "    </tr>\n",
       "    <tr>\n",
       "      <th>1104346</th>\n",
       "      <td>2vnT9YhKIvjVo9LnVjWmr2</td>\n",
       "      <td>26.0</td>\n",
       "      <td>[]</td>\n",
       "      <td>Jesse Giddings</td>\n",
       "      <td>0</td>\n",
       "    </tr>\n",
       "    <tr>\n",
       "      <th>1104347</th>\n",
       "      <td>3ID0E5XCvnJIYZEq043ZoB</td>\n",
       "      <td>406.0</td>\n",
       "      <td>[]</td>\n",
       "      <td>The Boy Band Project</td>\n",
       "      <td>0</td>\n",
       "    </tr>\n",
       "    <tr>\n",
       "      <th>1104348</th>\n",
       "      <td>5m0Y4WSYyai2BU752lCASy</td>\n",
       "      <td>146.0</td>\n",
       "      <td>[]</td>\n",
       "      <td>10 Reasons</td>\n",
       "      <td>1</td>\n",
       "    </tr>\n",
       "  </tbody>\n",
       "</table>\n",
       "<p>1104349 rows × 5 columns</p>\n",
       "</div>"
      ],
      "text/plain": [
       "                             id  followers                 genres  \\\n",
       "0        0DheY5irMjBUeLybbCUEZ2        0.0                     []   \n",
       "1        0DlhY15l3wsrnlfGio2bjU        5.0                     []   \n",
       "2        0DmRESX2JknGPQyO15yxg7        0.0                     []   \n",
       "3        0DmhnbHjm1qw6NCYPeZNgJ        0.0                     []   \n",
       "4        0Dn11fWM7vHQ3rinvWEl4E        2.0                     []   \n",
       "...                         ...        ...                    ...   \n",
       "1104344  6rJIG42vcWAf1UBdRFlQxB     3345.0                     []   \n",
       "1104345  1ljurfXKPlGncNdW3J8zJ8     2123.0  ['deep acoustic pop']   \n",
       "1104346  2vnT9YhKIvjVo9LnVjWmr2       26.0                     []   \n",
       "1104347  3ID0E5XCvnJIYZEq043ZoB      406.0                     []   \n",
       "1104348  5m0Y4WSYyai2BU752lCASy      146.0                     []   \n",
       "\n",
       "                                                   name  popularity  \n",
       "0        Armid & Amir Zare Pashai feat. Sara Rouzbehani           0  \n",
       "1                                           ปูนา ภาวิณี           0  \n",
       "2                                                 Sadaa           0  \n",
       "3                                             Tra'gruda           0  \n",
       "4                                Ioannis Panoutsopoulos           0  \n",
       "...                                                 ...         ...  \n",
       "1104344                                      Cody Longo           8  \n",
       "1104345                                 Right the Stars          18  \n",
       "1104346                                  Jesse Giddings           0  \n",
       "1104347                            The Boy Band Project           0  \n",
       "1104348                                      10 Reasons           1  \n",
       "\n",
       "[1104349 rows x 5 columns]"
      ]
     },
     "execution_count": 14,
     "metadata": {},
     "output_type": "execute_result"
    }
   ],
   "source": [
    "artists_df"
   ]
  },
  {
   "cell_type": "code",
   "execution_count": 15,
   "id": "british-algorithm",
   "metadata": {},
   "outputs": [],
   "source": [
    "artists_df['genres'] = list_column_cleaner(artists_df['genres'])"
   ]
  },
  {
   "cell_type": "code",
   "execution_count": 16,
   "id": "thick-luxury",
   "metadata": {
    "scrolled": true
   },
   "outputs": [
    {
     "data": {
      "text/plain": [
       "list"
      ]
     },
     "execution_count": 16,
     "metadata": {},
     "output_type": "execute_result"
    }
   ],
   "source": [
    "type(artists_df['genres'][1104345])"
   ]
  },
  {
   "cell_type": "code",
   "execution_count": 17,
   "id": "dominican-ordering",
   "metadata": {},
   "outputs": [
    {
     "data": {
      "text/plain": [
       "<AxesSubplot:xlabel='popularity', ylabel='Count'>"
      ]
     },
     "execution_count": 17,
     "metadata": {},
     "output_type": "execute_result"
    },
    {
     "data": {
      "image/png": "[encoded data removed]",
      "text/plain": [
       "<Figure size 432x288 with 1 Axes>"
      ]
     },
     "metadata": {
      "needs_background": "light"
     },
     "output_type": "display_data"
    }
   ],
   "source": [
    "sns.histplot(data=tracks_df, x=tracks_df['popularity'])"
   ]
  },
  {
   "cell_type": "markdown",
   "id": "limited-closer",
   "metadata": {},
   "source": [
    "## Saving Tracks & Artists Dataframes as CSV Files\n",
    "\n",
    "This is so I can load the dataframes on my streamlit app, as I'm having issues with my SQLalchemy installation."
   ]
  },
  {
   "cell_type": "code",
   "execution_count": null,
   "id": "noble-cartridge",
   "metadata": {},
   "outputs": [],
   "source": [
    "tracks_df.to_csv('data/tracks_df.csv', index=False)"
   ]
  },
  {
   "cell_type": "code",
   "execution_count": null,
   "id": "contemporary-technique",
   "metadata": {},
   "outputs": [],
   "source": [
    "artists_df.to_csv('data/artists_df.csv', index=False)"
   ]
  },
  {
   "cell_type": "code",
   "execution_count": null,
   "id": "suitable-obligation",
   "metadata": {},
   "outputs": [],
   "source": []
  },
  {
   "cell_type": "code",
   "execution_count": null,
   "id": "0cc5cc08",
   "metadata": {},
   "outputs": [],
   "source": []
  },
  {
   "cell_type": "code",
   "execution_count": null,
   "id": "cc6a90ab",
   "metadata": {},
   "outputs": [],
   "source": []
  },
  {
   "cell_type": "code",
   "execution_count": 49,
   "id": "1af1def9",
   "metadata": {},
   "outputs": [
    {
     "data": {
      "text/html": [
       "<div>\n",
       "<style scoped>\n",
       "    .dataframe tbody tr th:only-of-type {\n",
       "        vertical-align: middle;\n",
       "    }\n",
       "\n",
       "    .dataframe tbody tr th {\n",
       "        vertical-align: top;\n",
       "    }\n",
       "\n",
       "    .dataframe thead th {\n",
       "        text-align: right;\n",
       "    }\n",
       "</style>\n",
       "<table border=\"1\" class=\"dataframe\">\n",
       "  <thead>\n",
       "    <tr style=\"text-align: right;\">\n",
       "      <th></th>\n",
       "      <th>id</th>\n",
       "      <th>name</th>\n",
       "      <th>popularity</th>\n",
       "      <th>explicit</th>\n",
       "      <th>artists</th>\n",
       "      <th>id_artists</th>\n",
       "      <th>release_date</th>\n",
       "      <th>danceability</th>\n",
       "      <th>energy</th>\n",
       "      <th>key</th>\n",
       "      <th>loudness</th>\n",
       "      <th>mode</th>\n",
       "      <th>speechiness</th>\n",
       "      <th>acousticness</th>\n",
       "      <th>instrumentalness</th>\n",
       "      <th>liveness</th>\n",
       "      <th>valence</th>\n",
       "      <th>tempo</th>\n",
       "      <th>time_signature</th>\n",
       "      <th>duration_sec</th>\n",
       "    </tr>\n",
       "  </thead>\n",
       "  <tbody>\n",
       "  </tbody>\n",
       "</table>\n",
       "</div>"
      ],
      "text/plain": [
       "Empty DataFrame\n",
       "Columns: [id, name, popularity, explicit, artists, id_artists, release_date, danceability, energy, key, loudness, mode, speechiness, acousticness, instrumentalness, liveness, valence, tempo, time_signature, duration_sec]\n",
       "Index: []"
      ]
     },
     "execution_count": 49,
     "metadata": {},
     "output_type": "execute_result"
    }
   ],
   "source": [
    "tracks_df.loc[tracks_df['name'].str.lower()=='Rigamortus']"
   ]
  },
  {
   "cell_type": "markdown",
   "id": "wooden-essence",
   "metadata": {},
   "source": [
    "## Running a Linear Regression to Predict Popularity"
   ]
  },
  {
   "cell_type": "code",
   "execution_count": 18,
   "id": "induced-bacteria",
   "metadata": {
    "scrolled": true
   },
   "outputs": [
    {
     "data": {
      "text/html": [
       "<div>\n",
       "<style scoped>\n",
       "    .dataframe tbody tr th:only-of-type {\n",
       "        vertical-align: middle;\n",
       "    }\n",
       "\n",
       "    .dataframe tbody tr th {\n",
       "        vertical-align: top;\n",
       "    }\n",
       "\n",
       "    .dataframe thead th {\n",
       "        text-align: right;\n",
       "    }\n",
       "</style>\n",
       "<table border=\"1\" class=\"dataframe\">\n",
       "  <thead>\n",
       "    <tr style=\"text-align: right;\">\n",
       "      <th></th>\n",
       "      <th>popularity</th>\n",
       "      <th>explicit</th>\n",
       "      <th>danceability</th>\n",
       "      <th>energy</th>\n",
       "      <th>key</th>\n",
       "      <th>loudness</th>\n",
       "      <th>mode</th>\n",
       "      <th>speechiness</th>\n",
       "      <th>acousticness</th>\n",
       "      <th>instrumentalness</th>\n",
       "      <th>liveness</th>\n",
       "      <th>valence</th>\n",
       "      <th>tempo</th>\n",
       "      <th>time_signature</th>\n",
       "      <th>duration_sec</th>\n",
       "    </tr>\n",
       "  </thead>\n",
       "  <tbody>\n",
       "    <tr>\n",
       "      <th>popularity</th>\n",
       "      <td>1.000000</td>\n",
       "      <td>0.211758</td>\n",
       "      <td>0.187000</td>\n",
       "      <td>0.302315</td>\n",
       "      <td>0.015299</td>\n",
       "      <td>0.327028</td>\n",
       "      <td>-0.033655</td>\n",
       "      <td>-0.047357</td>\n",
       "      <td>-0.370882</td>\n",
       "      <td>-0.236487</td>\n",
       "      <td>-0.048740</td>\n",
       "      <td>0.004643</td>\n",
       "      <td>0.071364</td>\n",
       "      <td>0.086759</td>\n",
       "      <td>0.027681</td>\n",
       "    </tr>\n",
       "    <tr>\n",
       "      <th>explicit</th>\n",
       "      <td>0.211758</td>\n",
       "      <td>1.000000</td>\n",
       "      <td>0.150229</td>\n",
       "      <td>0.123076</td>\n",
       "      <td>0.010932</td>\n",
       "      <td>0.134603</td>\n",
       "      <td>-0.051754</td>\n",
       "      <td>0.102258</td>\n",
       "      <td>-0.149018</td>\n",
       "      <td>-0.067520</td>\n",
       "      <td>-0.013114</td>\n",
       "      <td>-0.016539</td>\n",
       "      <td>0.005745</td>\n",
       "      <td>0.044447</td>\n",
       "      <td>-0.016747</td>\n",
       "    </tr>\n",
       "    <tr>\n",
       "      <th>danceability</th>\n",
       "      <td>0.187000</td>\n",
       "      <td>0.150229</td>\n",
       "      <td>1.000000</td>\n",
       "      <td>0.241563</td>\n",
       "      <td>0.018824</td>\n",
       "      <td>0.251436</td>\n",
       "      <td>-0.044719</td>\n",
       "      <td>0.199310</td>\n",
       "      <td>-0.242951</td>\n",
       "      <td>-0.225900</td>\n",
       "      <td>-0.106168</td>\n",
       "      <td>0.528150</td>\n",
       "      <td>-0.040783</td>\n",
       "      <td>0.146196</td>\n",
       "      <td>-0.120371</td>\n",
       "    </tr>\n",
       "    <tr>\n",
       "      <th>energy</th>\n",
       "      <td>0.302315</td>\n",
       "      <td>0.123076</td>\n",
       "      <td>0.241563</td>\n",
       "      <td>1.000000</td>\n",
       "      <td>0.036294</td>\n",
       "      <td>0.764735</td>\n",
       "      <td>-0.065246</td>\n",
       "      <td>-0.053506</td>\n",
       "      <td>-0.715412</td>\n",
       "      <td>-0.195839</td>\n",
       "      <td>0.124632</td>\n",
       "      <td>0.372276</td>\n",
       "      <td>0.230099</td>\n",
       "      <td>0.188983</td>\n",
       "      <td>0.024825</td>\n",
       "    </tr>\n",
       "    <tr>\n",
       "      <th>key</th>\n",
       "      <td>0.015299</td>\n",
       "      <td>0.010932</td>\n",
       "      <td>0.018824</td>\n",
       "      <td>0.036294</td>\n",
       "      <td>1.000000</td>\n",
       "      <td>0.027109</td>\n",
       "      <td>-0.129491</td>\n",
       "      <td>-0.001035</td>\n",
       "      <td>-0.027414</td>\n",
       "      <td>-0.006776</td>\n",
       "      <td>-0.006774</td>\n",
       "      <td>0.019992</td>\n",
       "      <td>0.004904</td>\n",
       "      <td>0.008928</td>\n",
       "      <td>0.004626</td>\n",
       "    </tr>\n",
       "    <tr>\n",
       "      <th>loudness</th>\n",
       "      <td>0.327028</td>\n",
       "      <td>0.134603</td>\n",
       "      <td>0.251436</td>\n",
       "      <td>0.764735</td>\n",
       "      <td>0.027109</td>\n",
       "      <td>1.000000</td>\n",
       "      <td>-0.040464</td>\n",
       "      <td>-0.167112</td>\n",
       "      <td>-0.519423</td>\n",
       "      <td>-0.329306</td>\n",
       "      <td>0.029529</td>\n",
       "      <td>0.275448</td>\n",
       "      <td>0.189288</td>\n",
       "      <td>0.164377</td>\n",
       "      <td>0.000337</td>\n",
       "    </tr>\n",
       "    <tr>\n",
       "      <th>mode</th>\n",
       "      <td>-0.033655</td>\n",
       "      <td>-0.051754</td>\n",
       "      <td>-0.044719</td>\n",
       "      <td>-0.065246</td>\n",
       "      <td>-0.129491</td>\n",
       "      <td>-0.040464</td>\n",
       "      <td>1.000000</td>\n",
       "      <td>-0.017992</td>\n",
       "      <td>0.058918</td>\n",
       "      <td>-0.010008</td>\n",
       "      <td>0.007009</td>\n",
       "      <td>0.011474</td>\n",
       "      <td>0.007871</td>\n",
       "      <td>-0.015892</td>\n",
       "      <td>-0.027610</td>\n",
       "    </tr>\n",
       "    <tr>\n",
       "      <th>speechiness</th>\n",
       "      <td>-0.047357</td>\n",
       "      <td>0.102258</td>\n",
       "      <td>0.199310</td>\n",
       "      <td>-0.053506</td>\n",
       "      <td>-0.001035</td>\n",
       "      <td>-0.167112</td>\n",
       "      <td>-0.017992</td>\n",
       "      <td>1.000000</td>\n",
       "      <td>0.069060</td>\n",
       "      <td>-0.102440</td>\n",
       "      <td>0.207047</td>\n",
       "      <td>0.046501</td>\n",
       "      <td>-0.086911</td>\n",
       "      <td>-0.114171</td>\n",
       "      <td>-0.125771</td>\n",
       "    </tr>\n",
       "    <tr>\n",
       "      <th>acousticness</th>\n",
       "      <td>-0.370882</td>\n",
       "      <td>-0.149018</td>\n",
       "      <td>-0.242951</td>\n",
       "      <td>-0.715412</td>\n",
       "      <td>-0.027414</td>\n",
       "      <td>-0.519423</td>\n",
       "      <td>0.058918</td>\n",
       "      <td>0.069060</td>\n",
       "      <td>1.000000</td>\n",
       "      <td>0.204412</td>\n",
       "      <td>-0.004738</td>\n",
       "      <td>-0.180939</td>\n",
       "      <td>-0.195235</td>\n",
       "      <td>-0.173927</td>\n",
       "      <td>-0.064434</td>\n",
       "    </tr>\n",
       "    <tr>\n",
       "      <th>instrumentalness</th>\n",
       "      <td>-0.236487</td>\n",
       "      <td>-0.067520</td>\n",
       "      <td>-0.225900</td>\n",
       "      <td>-0.195839</td>\n",
       "      <td>-0.006776</td>\n",
       "      <td>-0.329306</td>\n",
       "      <td>-0.010008</td>\n",
       "      <td>-0.102440</td>\n",
       "      <td>0.204412</td>\n",
       "      <td>1.000000</td>\n",
       "      <td>-0.038848</td>\n",
       "      <td>-0.175226</td>\n",
       "      <td>-0.055477</td>\n",
       "      <td>-0.042257</td>\n",
       "      <td>0.069278</td>\n",
       "    </tr>\n",
       "    <tr>\n",
       "      <th>liveness</th>\n",
       "      <td>-0.048740</td>\n",
       "      <td>-0.013114</td>\n",
       "      <td>-0.106168</td>\n",
       "      <td>0.124632</td>\n",
       "      <td>-0.006774</td>\n",
       "      <td>0.029529</td>\n",
       "      <td>0.007009</td>\n",
       "      <td>0.207047</td>\n",
       "      <td>-0.004738</td>\n",
       "      <td>-0.038848</td>\n",
       "      <td>1.000000</td>\n",
       "      <td>-0.000034</td>\n",
       "      <td>-0.014912</td>\n",
       "      <td>-0.024202</td>\n",
       "      <td>0.002137</td>\n",
       "    </tr>\n",
       "    <tr>\n",
       "      <th>valence</th>\n",
       "      <td>0.004643</td>\n",
       "      <td>-0.016539</td>\n",
       "      <td>0.528150</td>\n",
       "      <td>0.372276</td>\n",
       "      <td>0.019992</td>\n",
       "      <td>0.275448</td>\n",
       "      <td>0.011474</td>\n",
       "      <td>0.046501</td>\n",
       "      <td>-0.180939</td>\n",
       "      <td>-0.175226</td>\n",
       "      <td>-0.000034</td>\n",
       "      <td>1.000000</td>\n",
       "      <td>0.135250</td>\n",
       "      <td>0.105529</td>\n",
       "      <td>-0.163202</td>\n",
       "    </tr>\n",
       "    <tr>\n",
       "      <th>tempo</th>\n",
       "      <td>0.071364</td>\n",
       "      <td>0.005745</td>\n",
       "      <td>-0.040783</td>\n",
       "      <td>0.230099</td>\n",
       "      <td>0.004904</td>\n",
       "      <td>0.189288</td>\n",
       "      <td>0.007871</td>\n",
       "      <td>-0.086911</td>\n",
       "      <td>-0.195235</td>\n",
       "      <td>-0.055477</td>\n",
       "      <td>-0.014912</td>\n",
       "      <td>0.135250</td>\n",
       "      <td>1.000000</td>\n",
       "      <td>0.031875</td>\n",
       "      <td>-0.001210</td>\n",
       "    </tr>\n",
       "    <tr>\n",
       "      <th>time_signature</th>\n",
       "      <td>0.086759</td>\n",
       "      <td>0.044447</td>\n",
       "      <td>0.146196</td>\n",
       "      <td>0.188983</td>\n",
       "      <td>0.008928</td>\n",
       "      <td>0.164377</td>\n",
       "      <td>-0.015892</td>\n",
       "      <td>-0.114171</td>\n",
       "      <td>-0.173927</td>\n",
       "      <td>-0.042257</td>\n",
       "      <td>-0.024202</td>\n",
       "      <td>0.105529</td>\n",
       "      <td>0.031875</td>\n",
       "      <td>1.000000</td>\n",
       "      <td>0.037552</td>\n",
       "    </tr>\n",
       "    <tr>\n",
       "      <th>duration_sec</th>\n",
       "      <td>0.027681</td>\n",
       "      <td>-0.016747</td>\n",
       "      <td>-0.120371</td>\n",
       "      <td>0.024825</td>\n",
       "      <td>0.004626</td>\n",
       "      <td>0.000337</td>\n",
       "      <td>-0.027610</td>\n",
       "      <td>-0.125771</td>\n",
       "      <td>-0.064434</td>\n",
       "      <td>0.069278</td>\n",
       "      <td>0.002137</td>\n",
       "      <td>-0.163202</td>\n",
       "      <td>-0.001210</td>\n",
       "      <td>0.037552</td>\n",
       "      <td>1.000000</td>\n",
       "    </tr>\n",
       "  </tbody>\n",
       "</table>\n",
       "</div>"
      ],
      "text/plain": [
       "                  popularity  explicit  danceability    energy       key  \\\n",
       "popularity          1.000000  0.211758      0.187000  0.302315  0.015299   \n",
       "explicit            0.211758  1.000000      0.150229  0.123076  0.010932   \n",
       "danceability        0.187000  0.150229      1.000000  0.241563  0.018824   \n",
       "energy              0.302315  0.123076      0.241563  1.000000  0.036294   \n",
       "key                 0.015299  0.010932      0.018824  0.036294  1.000000   \n",
       "loudness            0.327028  0.134603      0.251436  0.764735  0.027109   \n",
       "mode               -0.033655 -0.051754     -0.044719 -0.065246 -0.129491   \n",
       "speechiness        -0.047357  0.102258      0.199310 -0.053506 -0.001035   \n",
       "acousticness       -0.370882 -0.149018     -0.242951 -0.715412 -0.027414   \n",
       "instrumentalness   -0.236487 -0.067520     -0.225900 -0.195839 -0.006776   \n",
       "liveness           -0.048740 -0.013114     -0.106168  0.124632 -0.006774   \n",
       "valence             0.004643 -0.016539      0.528150  0.372276  0.019992   \n",
       "tempo               0.071364  0.005745     -0.040783  0.230099  0.004904   \n",
       "time_signature      0.086759  0.044447      0.146196  0.188983  0.008928   \n",
       "duration_sec        0.027681 -0.016747     -0.120371  0.024825  0.004626   \n",
       "\n",
       "                  loudness      mode  speechiness  acousticness  \\\n",
       "popularity        0.327028 -0.033655    -0.047357     -0.370882   \n",
       "explicit          0.134603 -0.051754     0.102258     -0.149018   \n",
       "danceability      0.251436 -0.044719     0.199310     -0.242951   \n",
       "energy            0.764735 -0.065246    -0.053506     -0.715412   \n",
       "key               0.027109 -0.129491    -0.001035     -0.027414   \n",
       "loudness          1.000000 -0.040464    -0.167112     -0.519423   \n",
       "mode             -0.040464  1.000000    -0.017992      0.058918   \n",
       "speechiness      -0.167112 -0.017992     1.000000      0.069060   \n",
       "acousticness     -0.519423  0.058918     0.069060      1.000000   \n",
       "instrumentalness -0.329306 -0.010008    -0.102440      0.204412   \n",
       "liveness          0.029529  0.007009     0.207047     -0.004738   \n",
       "valence           0.275448  0.011474     0.046501     -0.180939   \n",
       "tempo             0.189288  0.007871    -0.086911     -0.195235   \n",
       "time_signature    0.164377 -0.015892    -0.114171     -0.173927   \n",
       "duration_sec      0.000337 -0.027610    -0.125771     -0.064434   \n",
       "\n",
       "                  instrumentalness  liveness   valence     tempo  \\\n",
       "popularity               -0.236487 -0.048740  0.004643  0.071364   \n",
       "explicit                 -0.067520 -0.013114 -0.016539  0.005745   \n",
       "danceability             -0.225900 -0.106168  0.528150 -0.040783   \n",
       "energy                   -0.195839  0.124632  0.372276  0.230099   \n",
       "key                      -0.006776 -0.006774  0.019992  0.004904   \n",
       "loudness                 -0.329306  0.029529  0.275448  0.189288   \n",
       "mode                     -0.010008  0.007009  0.011474  0.007871   \n",
       "speechiness              -0.102440  0.207047  0.046501 -0.086911   \n",
       "acousticness              0.204412 -0.004738 -0.180939 -0.195235   \n",
       "instrumentalness          1.000000 -0.038848 -0.175226 -0.055477   \n",
       "liveness                 -0.038848  1.000000 -0.000034 -0.014912   \n",
       "valence                  -0.175226 -0.000034  1.000000  0.135250   \n",
       "tempo                    -0.055477 -0.014912  0.135250  1.000000   \n",
       "time_signature           -0.042257 -0.024202  0.105529  0.031875   \n",
       "duration_sec              0.069278  0.002137 -0.163202 -0.001210   \n",
       "\n",
       "                  time_signature  duration_sec  \n",
       "popularity              0.086759      0.027681  \n",
       "explicit                0.044447     -0.016747  \n",
       "danceability            0.146196     -0.120371  \n",
       "energy                  0.188983      0.024825  \n",
       "key                     0.008928      0.004626  \n",
       "loudness                0.164377      0.000337  \n",
       "mode                   -0.015892     -0.027610  \n",
       "speechiness            -0.114171     -0.125771  \n",
       "acousticness           -0.173927     -0.064434  \n",
       "instrumentalness       -0.042257      0.069278  \n",
       "liveness               -0.024202      0.002137  \n",
       "valence                 0.105529     -0.163202  \n",
       "tempo                   0.031875     -0.001210  \n",
       "time_signature          1.000000      0.037552  \n",
       "duration_sec            0.037552      1.000000  "
      ]
     },
     "execution_count": 18,
     "metadata": {},
     "output_type": "execute_result"
    }
   ],
   "source": [
    "tracks_df.corr()"
   ]
  },
  {
   "cell_type": "code",
   "execution_count": 19,
   "id": "disabled-psychiatry",
   "metadata": {},
   "outputs": [
    {
     "data": {
      "image/png": "[encoded data removed]",
      "text/plain": [
       "<Figure size 864x720 with 2 Axes>"
      ]
     },
     "metadata": {
      "needs_background": "light"
     },
     "output_type": "display_data"
    }
   ],
   "source": [
    "plt.figure(figsize=(12,10))\n",
    "cor = tracks_df.corr()\n",
    "sns.heatmap(cor, annot=True, cmap=plt.cm.Reds)\n",
    "plt.show()"
   ]
  },
  {
   "cell_type": "code",
   "execution_count": null,
   "id": "e3485ffb",
   "metadata": {},
   "outputs": [],
   "source": [
    "sns.pairplot(tracks_df)"
   ]
  },
  {
   "cell_type": "code",
   "execution_count": 32,
   "id": "union-asbestos",
   "metadata": {},
   "outputs": [],
   "source": [
    "from sklearn.linear_model import LinearRegression, Ridge\n",
    "from sklearn.model_selection import train_test_split\n",
    "from sklearn.preprocessing import StandardScaler, PolynomialFeatures"
   ]
  },
  {
   "cell_type": "code",
   "execution_count": 24,
   "id": "be9a34ac",
   "metadata": {},
   "outputs": [],
   "source": [
    "X = tracks_df[['duration_sec', 'explicit', 'danceability', 'energy', 'key', 'loudness', 'mode', 'speechiness', 'acousticness', 'instrumentalness', 'liveness', 'valence', 'tempo', 'time_signature']]\n",
    "\n",
    "y = tracks_df['popularity']"
   ]
  },
  {
   "cell_type": "code",
   "execution_count": 29,
   "id": "9c2af1f4",
   "metadata": {},
   "outputs": [],
   "source": [
    "X_train, X_val, y_train, y_val = train_test_split(X, y, test_size=.25, random_state=3)"
   ]
  },
  {
   "cell_type": "code",
   "execution_count": 30,
   "id": "ac663188",
   "metadata": {},
   "outputs": [],
   "source": [
    "lm = LinearRegression()\n",
    "scaler = StandardScaler()\n",
    "\n",
    "X_train_scaled = scaler.fit_transform(X_train.values)\n",
    "X_val_scaled = scaler.transform(X_val.values)\n",
    "X_test_scaled = scaler.transform(X_test.values)"
   ]
  },
  {
   "cell_type": "code",
   "execution_count": 38,
   "id": "d5f74dc5",
   "metadata": {},
   "outputs": [],
   "source": [
    "lm_reg = Ridge(alpha=1)\n",
    "poly = PolynomialFeatures(degree=3)\n",
    "\n",
    "X_train_poly = poly.fit_transform(X_train.values)\n",
    "X_val_poly = poly.transform(X_val.values)\n",
    "X_test_poly = poly.transform(X_test.values)\n",
    "\n",
    "lm_poly = LinearRegression()"
   ]
  },
  {
   "cell_type": "code",
   "execution_count": 39,
   "id": "55c81d36",
   "metadata": {},
   "outputs": [
    {
     "name": "stdout",
     "output_type": "stream",
     "text": [
      "Linear Regression val R^2: 0.226\n",
      "Ridge Regression val R^2: 0.226\n",
      "Degree 2 polynomial regression val R^2: 0.314\n"
     ]
    }
   ],
   "source": [
    "lm.fit(X_train, y_train)\n",
    "print(f'Linear Regression val R^2: {lm.score(X_val, y_val):.3f}')\n",
    "\n",
    "lm_reg.fit(X_train_scaled, y_train)\n",
    "print(f'Ridge Regression val R^2: {lm_reg.score(X_val_scaled, y_val):.3f}')\n",
    "\n",
    "lm_poly.fit(X_train_poly, y_train)\n",
    "print(f'Degree 2 polynomial regression val R^2: {lm_poly.score(X_val_poly, y_val):.3f}')"
   ]
  },
  {
   "cell_type": "code",
   "execution_count": 40,
   "id": "b60bd3d4",
   "metadata": {},
   "outputs": [
    {
     "name": "stdout",
     "output_type": "stream",
     "text": [
      "Linear Regression test R^2: 0.229\n"
     ]
    }
   ],
   "source": [
    "lm.fit(X,y)\n",
    "print(f'Linear Regression test R^2: {lm.score(X_test, y_test):.3f}')"
   ]
  },
  {
   "cell_type": "code",
   "execution_count": null,
   "id": "df1d88bb",
   "metadata": {},
   "outputs": [],
   "source": []
  },
  {
   "cell_type": "code",
   "execution_count": 41,
   "id": "fb7756a6",
   "metadata": {},
   "outputs": [],
   "source": [
    "from sklearn.model_selection import KFold\n",
    "\n",
    "X = tracks_df[['duration_sec', 'explicit', 'danceability', 'energy', 'key', 'loudness', 'mode', 'speechiness', 'acousticness', 'instrumentalness', 'liveness', 'valence', 'tempo', 'time_signature']]\n",
    "\n",
    "y = tracks_df['popularity']\n",
    "\n",
    "X, X_test, y, y_test = train_test_split(X, y, test_size=.2, random_state=10) #hold out 20% of the data for final testing\n",
    "\n",
    "#this helps with the way kf will generate indices below\n",
    "X, y = np.array(X), np.array(y)"
   ]
  },
  {
   "cell_type": "code",
   "execution_count": 47,
   "id": "completed-shock",
   "metadata": {},
   "outputs": [
    {
     "name": "stdout",
     "output_type": "stream",
     "text": [
      "Ridge scores:  [0.22619863542432161, 0.2246874182102384, 0.22610255611735286, 0.22228513371313185, 0.22553253426385822] \n",
      "\n",
      "Ridge mean cv r^2: 0.225 +- 0.001\n"
     ]
    }
   ],
   "source": [
    "#run the CV\n",
    "\n",
    "kf = KFold(n_splits=5, shuffle=True, random_state = 42)\n",
    "cv_lm_reg_r2s = [] #collect the validation results for both models\n",
    "\n",
    "for train_ind, val_ind in kf.split(X,y):\n",
    "    \n",
    "    X_train, y_train = X[train_ind], y[train_ind]\n",
    "    X_val, y_val = X[val_ind], y[val_ind] \n",
    "    \n",
    "    #simple linear regression\n",
    "    lm_reg = Ridge(alpha=1)\n",
    "\n",
    "    #ridge with feature scaling\n",
    "    scaler = StandardScaler()\n",
    "    X_train_scaled = scaler.fit_transform(X_train)\n",
    "    X_val_scaled = scaler.transform(X_val)\n",
    "    \n",
    "    lm_reg.fit(X_train_scaled, y_train)\n",
    "    cv_lm_reg_r2s.append(lm_reg.score(X_val_scaled, y_val))\n",
    "\n",
    "\n",
    "print('Ridge scores: ', cv_lm_reg_r2s, '\\n')\n",
    "\n",
    "print(f'Ridge mean cv r^2: {np.mean(cv_lm_reg_r2s):.3f} +- {np.std(cv_lm_reg_r2s):.3f}')"
   ]
  },
  {
   "cell_type": "code",
   "execution_count": 48,
   "id": "2867c656",
   "metadata": {},
   "outputs": [
    {
     "name": "stdout",
     "output_type": "stream",
     "text": [
      "Ridge Regression test R^2: 0.229\n"
     ]
    }
   ],
   "source": [
    "scaler = StandardScaler()\n",
    "X_scaled = scaler.fit_transform(X)\n",
    "X_test_scaled = scaler.transform(X_test)\n",
    "\n",
    "lm_reg = Ridge(alpha=1)\n",
    "lm_reg.fit(X_scaled,y)\n",
    "print(f'Ridge Regression test R^2: {lm_reg.score(X_test_scaled, y_test):.3f}')"
   ]
  },
  {
   "cell_type": "code",
   "execution_count": null,
   "id": "e7535735",
   "metadata": {},
   "outputs": [],
   "source": []
  },
  {
   "cell_type": "code",
   "execution_count": null,
   "id": "45975873",
   "metadata": {},
   "outputs": [],
   "source": [
    "def split_and_validate(X, y):\n",
    "    '''\n",
    "    For a set of features and target X, y, perform a 80/20 train/val split, \n",
    "    fit and validate a linear regression model, and report results\n",
    "    '''\n",
    "    \n",
    "    # perform train/val split\n",
    "    X_train, X_val, y_train, y_val = \\\n",
    "        train_test_split(X, y, test_size=0.2, random_state=42)\n",
    "    \n",
    "    # fit linear regression to training data\n",
    "    lr_model = LinearRegression()\n",
    "    lr_model.fit(X_train, y_train)\n",
    "    \n",
    "    # score fit model on validation data\n",
    "    val_score = lr_model.score(X_val, y_val)\n",
    "    \n",
    "    # report results\n",
    "    print('\\nValidation R^2 score was:', val_score)\n",
    "    print('Feature coefficient results: \\n')\n",
    "    for feature, coef in zip(X.columns, lr_model.coef_):\n",
    "        print(feature, ':', f'{coef:.2f}') \n",
    "        "
   ]
  },
  {
   "cell_type": "code",
   "execution_count": null,
   "id": "35db6b92",
   "metadata": {
    "scrolled": true
   },
   "outputs": [],
   "source": [
    "split_and_validate(X,y)"
   ]
  },
  {
   "cell_type": "markdown",
   "id": "1b6c341b",
   "metadata": {},
   "source": [
    "Features with Categorical Data:\n",
    "\n",
    "time_signature, mode, key, explicit, "
   ]
  },
  {
   "cell_type": "code",
   "execution_count": null,
   "id": "3cc02b71",
   "metadata": {
    "scrolled": false
   },
   "outputs": [],
   "source": [
    "tracks_df['time_signature'].value_counts()"
   ]
  },
  {
   "cell_type": "code",
   "execution_count": null,
   "id": "24e4f63c",
   "metadata": {
    "scrolled": true
   },
   "outputs": [],
   "source": [
    "pd.get_dummies(tracks_df['time_signature']).head()"
   ]
  },
  {
   "cell_type": "code",
   "execution_count": null,
   "id": "374f86fe",
   "metadata": {},
   "outputs": [],
   "source": [
    "split_and_validate(pd.get_dummies(tracks_df),y)"
   ]
  },
  {
   "cell_type": "code",
   "execution_count": null,
   "id": "946ee6fb",
   "metadata": {},
   "outputs": [],
   "source": [
    "tracks_df['mode'].value_counts()"
   ]
  },
  {
   "cell_type": "code",
   "execution_count": null,
   "id": "5306e6d0",
   "metadata": {},
   "outputs": [],
   "source": [
    "tracks_df['key'].value_counts()"
   ]
  },
  {
   "cell_type": "code",
   "execution_count": null,
   "id": "79122667",
   "metadata": {
    "scrolled": false
   },
   "outputs": [],
   "source": [
    "tracks_df['explicit'].value_counts()"
   ]
  },
  {
   "cell_type": "code",
   "execution_count": null,
   "id": "f4a6aae3",
   "metadata": {},
   "outputs": [],
   "source": []
  },
  {
   "cell_type": "code",
   "execution_count": null,
   "id": "fa7084b8",
   "metadata": {},
   "outputs": [],
   "source": []
  },
  {
   "cell_type": "code",
   "execution_count": null,
   "id": "723a93ab",
   "metadata": {},
   "outputs": [],
   "source": [
    "from sklearn.model_selection import train_test_split\n",
    "from sklearn.linear_model import LinearRegression, Ridge #ordinary linear regression + w/ ridge regularization\n",
    "from sklearn.preprocessing import StandardScaler, PolynomialFeatures"
   ]
  },
  {
   "cell_type": "code",
   "execution_count": null,
   "id": "split-details",
   "metadata": {},
   "outputs": [],
   "source": [
    "X_train, X_test, y_train, y_test = train_test_split(X,y)\n",
    "\n",
    "lr = LinearRegression()\n",
    "scaler = StandardScaler()"
   ]
  },
  {
   "cell_type": "code",
   "execution_count": null,
   "id": "polyphonic-cross",
   "metadata": {
    "scrolled": true
   },
   "outputs": [],
   "source": [
    "lr.fit(X_train, y_train)"
   ]
  },
  {
   "cell_type": "code",
   "execution_count": null,
   "id": "authorized-rachel",
   "metadata": {
    "scrolled": true
   },
   "outputs": [],
   "source": [
    "lr.score(X_test, y_test)"
   ]
  },
  {
   "cell_type": "code",
   "execution_count": null,
   "id": "a49861aa",
   "metadata": {},
   "outputs": [],
   "source": [
    "import math"
   ]
  },
  {
   "cell_type": "code",
   "execution_count": null,
   "id": "26646e6f",
   "metadata": {},
   "outputs": [],
   "source": [
    "X2 = X.copy()\n",
    "\n",
    "X2['duration_ms'] = X2['duration_ms']**0.5"
   ]
  },
  {
   "cell_type": "code",
   "execution_count": null,
   "id": "b702d0ad",
   "metadata": {
    "scrolled": false
   },
   "outputs": [],
   "source": [
    "split_and_validate(X2,y)"
   ]
  },
  {
   "cell_type": "code",
   "execution_count": null,
   "id": "75e2c146",
   "metadata": {},
   "outputs": [],
   "source": []
  },
  {
   "cell_type": "code",
   "execution_count": null,
   "id": "d4387f89",
   "metadata": {},
   "outputs": [],
   "source": []
  },
  {
   "cell_type": "code",
   "execution_count": null,
   "id": "7646fc65",
   "metadata": {},
   "outputs": [],
   "source": []
  },
  {
   "cell_type": "code",
   "execution_count": null,
   "id": "3340ab0f",
   "metadata": {},
   "outputs": [],
   "source": []
  },
  {
   "cell_type": "code",
   "execution_count": null,
   "id": "47a6d242",
   "metadata": {},
   "outputs": [],
   "source": []
  },
  {
   "cell_type": "code",
   "execution_count": null,
   "id": "0bdbde77",
   "metadata": {},
   "outputs": [],
   "source": []
  },
  {
   "cell_type": "code",
   "execution_count": null,
   "id": "3c056192",
   "metadata": {},
   "outputs": [],
   "source": []
  },
  {
   "cell_type": "code",
   "execution_count": null,
   "id": "1691d370",
   "metadata": {},
   "outputs": [],
   "source": []
  },
  {
   "cell_type": "markdown",
   "id": "dependent-accordance",
   "metadata": {},
   "source": [
    "## Converting Pandas Dataframes to Spark Dataframes\n",
    "\n",
    "Using sparkdf = spark.createDataFrame(pandasDF)"
   ]
  },
  {
   "cell_type": "code",
   "execution_count": null,
   "id": "organizational-ecuador",
   "metadata": {},
   "outputs": [],
   "source": [
    "spark_tracks_df = spark.createDataFrame(tracks_df)\n",
    "# spark_artists_df = spark.createDataFrame(tracks_df)"
   ]
  },
  {
   "cell_type": "code",
   "execution_count": null,
   "id": "3503c3aa",
   "metadata": {
    "scrolled": false
   },
   "outputs": [],
   "source": [
    "spark_tracks_df.printSchema()"
   ]
  },
  {
   "cell_type": "code",
   "execution_count": null,
   "id": "ebbc1072",
   "metadata": {},
   "outputs": [],
   "source": [
    "req_columns = ['popularity', 'duration_sec', 'explicit', 'danceability', 'energy', 'key', 'loudness', 'mode', 'speechiness', 'acousticness', 'instrumentalness', 'liveness', 'valence', 'tempo', 'time_signature']\n",
    "ml_spark_tracks_df = spark_tracks_df.select(req_columns)"
   ]
  },
  {
   "cell_type": "code",
   "execution_count": null,
   "id": "d713a7ce",
   "metadata": {
    "scrolled": true
   },
   "outputs": [],
   "source": [
    "ml_spark_tracks_df"
   ]
  },
  {
   "cell_type": "code",
   "execution_count": null,
   "id": "cd04e937",
   "metadata": {},
   "outputs": [],
   "source": [
    "from pyspark.ml.linalg import DenseVector"
   ]
  },
  {
   "cell_type": "code",
   "execution_count": null,
   "id": "3036fd5f",
   "metadata": {},
   "outputs": [],
   "source": []
  },
  {
   "cell_type": "code",
   "execution_count": null,
   "id": "ad0c9dff",
   "metadata": {},
   "outputs": [],
   "source": [
    "input_data = ml_spark_tracks_df.rdd.map(lambda x: (x[0], DenseVector(x[1:])))"
   ]
  },
  {
   "cell_type": "code",
   "execution_count": null,
   "id": "0493d344",
   "metadata": {},
   "outputs": [],
   "source": [
    "scaled_ml_tracks_df = spark.createDataFrame(input_data, ['label', 'features'])"
   ]
  },
  {
   "cell_type": "code",
   "execution_count": null,
   "id": "646646c2",
   "metadata": {},
   "outputs": [],
   "source": [
    "from pyspark.ml.feature import StandardScaler\n",
    "standardScaler = StandardScaler(inputCol=\"features\", outputCol=\"features_scaled\")\n",
    "scaler = standardScaler.fit(scaled_ml_tracks_df)\n",
    "scaled_df = scaler.transform(scaled_ml_tracks_df)\n",
    "\n",
    "scaled_df.take(2)"
   ]
  },
  {
   "cell_type": "code",
   "execution_count": null,
   "id": "1b7bb9fc",
   "metadata": {},
   "outputs": [],
   "source": [
    "from pyspark.ml.feature import StandardScaler\n",
    "standardScaler = StandardScaler(inputCol=\"features\", outputCol=\"features_scaled\")\n",
    "scaler = standardScaler.fit(df)\n",
    "scaled_df = scaler.transform(df)\n",
    "scaled_df.take(2)"
   ]
  },
  {
   "cell_type": "code",
   "execution_count": null,
   "id": "e820b56e",
   "metadata": {},
   "outputs": [],
   "source": [
    "train_data, test_data = scaled_df.randomSplit([.8,.2],seed=1234)"
   ]
  },
  {
   "cell_type": "code",
   "execution_count": null,
   "id": "302cd972",
   "metadata": {},
   "outputs": [],
   "source": [
    "from pyspark.ml.regression import LinearRegression\n",
    "lr = LinearRegression(labelCol=\"label\", maxIter=10, regParam=0.3, elasticNetParam=0.8)\n",
    "linearModel = lr.fit(train_data)"
   ]
  },
  {
   "cell_type": "code",
   "execution_count": null,
   "id": "a3d3f081",
   "metadata": {},
   "outputs": [],
   "source": [
    "predicted = linearModel.transform(test_data)\n",
    "predictions = predicted.select(\"prediction\").rdd.map(lambda x: x[0])\n",
    "labels = predicted.select(\"label\").rdd.map(lambda x: x[0])"
   ]
  },
  {
   "cell_type": "code",
   "execution_count": null,
   "id": "cab4f25f",
   "metadata": {},
   "outputs": [],
   "source": [
    "predictionAndLabel = predictions.zip(labels).collect()"
   ]
  },
  {
   "cell_type": "code",
   "execution_count": null,
   "id": "8a94eecd",
   "metadata": {},
   "outputs": [],
   "source": [
    "predictionAndLabel[:5]"
   ]
  },
  {
   "cell_type": "code",
   "execution_count": null,
   "id": "68405e5b",
   "metadata": {},
   "outputs": [],
   "source": [
    "linearModel.coefficients"
   ]
  },
  {
   "cell_type": "code",
   "execution_count": null,
   "id": "6350ad03",
   "metadata": {},
   "outputs": [],
   "source": [
    "linearModel.intercept"
   ]
  },
  {
   "cell_type": "code",
   "execution_count": null,
   "id": "9f308bf0",
   "metadata": {},
   "outputs": [],
   "source": [
    "linearModel.summary.rootMeanSquaredError"
   ]
  },
  {
   "cell_type": "code",
   "execution_count": null,
   "id": "06cd1737",
   "metadata": {},
   "outputs": [],
   "source": [
    "linearModel.summary.r2"
   ]
  },
  {
   "cell_type": "code",
   "execution_count": null,
   "id": "a3ae02ed",
   "metadata": {},
   "outputs": [],
   "source": []
  },
  {
   "cell_type": "code",
   "execution_count": null,
   "id": "6c9d9aa6",
   "metadata": {},
   "outputs": [],
   "source": []
  },
  {
   "cell_type": "code",
   "execution_count": null,
   "id": "9ef56d5b",
   "metadata": {},
   "outputs": [],
   "source": []
  },
  {
   "cell_type": "code",
   "execution_count": null,
   "id": "731e8594",
   "metadata": {},
   "outputs": [],
   "source": []
  },
  {
   "cell_type": "code",
   "execution_count": null,
   "id": "8735abf2",
   "metadata": {},
   "outputs": [],
   "source": [
    "import warnings\n",
    "import matplotlib.pyplot as plt\n",
    "import seaborn as sns\n",
    "import pandas as pd\n",
    "import requests, os, sys\n",
    "\n",
    "if sys.version_info.major == 3:\n",
    "    from io import StringIO\n",
    "else:\n",
    "    from StringIO import StringIO\n",
    "\n",
    "import pyspark"
   ]
  },
  {
   "cell_type": "code",
   "execution_count": null,
   "id": "16bf10c1",
   "metadata": {},
   "outputs": [],
   "source": [
    "train, test = ml_spark_tracks_df.randomSplit([0.7,0.3], seed=42)"
   ]
  },
  {
   "cell_type": "code",
   "execution_count": null,
   "id": "66feb414",
   "metadata": {},
   "outputs": [],
   "source": [
    "from pyspark.ml.feature import VectorAssembler\n",
    "features = ml_spark_tracks_df.schema.names[1:]\n",
    "\n",
    "assembler = VectorAssembler(inputCols=features, outputCol='features')\n",
    "train_pack = assembler.transform(train)\n",
    "test_pack = assembler.transform(test)"
   ]
  },
  {
   "cell_type": "code",
   "execution_count": null,
   "id": "e0f64574",
   "metadata": {},
   "outputs": [],
   "source": [
    "from pyspark.ml.feature import MinMaxScaler\n",
    "\n",
    "minmaxscale = MinMaxScaler(inputCol='features', outputCol='features_scaled')\n",
    "minmaxscale = minmaxscale.fit(train_pack)\n",
    "\n",
    "train_pack = minmaxscale.transform(train_pack)\n",
    "test_pack  = minmaxscale.transform(test_pack)"
   ]
  },
  {
   "cell_type": "code",
   "execution_count": null,
   "id": "3562df81",
   "metadata": {},
   "outputs": [],
   "source": [
    "from pyspark.ml.classification import DecisionTreeClassifier, RandomForestClassifier, GBTClassifier, LogisticRegression"
   ]
  },
  {
   "cell_type": "code",
   "execution_count": null,
   "id": "ignored-computer",
   "metadata": {
    "scrolled": true
   },
   "outputs": [],
   "source": [
    "spark_tracks_df.show()"
   ]
  },
  {
   "cell_type": "code",
   "execution_count": null,
   "id": "corrected-feelings",
   "metadata": {},
   "outputs": [],
   "source": []
  },
  {
   "cell_type": "code",
   "execution_count": null,
   "id": "increased-christopher",
   "metadata": {},
   "outputs": [],
   "source": [
    "explicit_filter = spark_tracks_df.filter(spark_tracks_df.explicit == 1)"
   ]
  },
  {
   "cell_type": "code",
   "execution_count": null,
   "id": "specific-hunter",
   "metadata": {},
   "outputs": [],
   "source": []
  },
  {
   "cell_type": "code",
   "execution_count": null,
   "id": "offensive-clock",
   "metadata": {},
   "outputs": [],
   "source": [
    "explicit_filter.filter(spark_tracks_df.explicit == 1).show()"
   ]
  },
  {
   "cell_type": "code",
   "execution_count": null,
   "id": "0e79d055",
   "metadata": {},
   "outputs": [],
   "source": [
    "sxpark_tracks_df.first()"
   ]
  },
  {
   "cell_type": "code",
   "execution_count": null,
   "id": "f013c2af",
   "metadata": {},
   "outputs": [],
   "source": [
    "all_tracks.corr()"
   ]
  },
  {
   "cell_type": "code",
   "execution_count": null,
   "id": "fd383ca3",
   "metadata": {},
   "outputs": [],
   "source": [
    "fig, ax = plt.subplots(figsize=(10,10))\n",
    "sns.heatmap(all_tracks.corr(), cmap=\"seismic\",annot=True, ax=ax);"
   ]
  },
  {
   "cell_type": "code",
   "execution_count": null,
   "id": "attached-barcelona",
   "metadata": {},
   "outputs": [],
   "source": [
    "spark_all_tracks = spark.createDataFrame(all_tracks)"
   ]
  },
  {
   "cell_type": "code",
   "execution_count": null,
   "id": "encouraging-galaxy",
   "metadata": {},
   "outputs": [],
   "source": [
    "spark_all_tracks.show(5)"
   ]
  },
  {
   "cell_type": "code",
   "execution_count": null,
   "id": "f5ea7610",
   "metadata": {},
   "outputs": [],
   "source": [
    "pd.read_sql('SELECT * FROM artists', engine)"
   ]
  },
  {
   "cell_type": "code",
   "execution_count": null,
   "id": "extra-album",
   "metadata": {},
   "outputs": [],
   "source": [
    "def list_column_cleaner(df_list_column):\n",
    "    df_list_column = df_list_column.apply(lambda x: x[1:-1].split(','))\n",
    "    df_list_column = [list_cleaner(value_list) for value_list in df_list_column]\n",
    "    return df_list_column\n",
    "    "
   ]
  },
  {
   "cell_type": "code",
   "execution_count": null,
   "id": "immediate-effort",
   "metadata": {},
   "outputs": [],
   "source": [
    "def list_cleaner(value_list):\n",
    "    value_list = [i.replace(\"'\", '').strip() for i in value_list]\n",
    "    \n",
    "    return value_list"
   ]
  },
  {
   "cell_type": "code",
   "execution_count": null,
   "id": "dab6bc51",
   "metadata": {},
   "outputs": [],
   "source": [
    "def list_cleaner(artist_genre_list):\n",
    "    artist_genre_list = [i.replace(\"'\", '').strip() for i in artist_genre_list]\n",
    "    \n",
    "    return artist_genre_list"
   ]
  },
  {
   "cell_type": "code",
   "execution_count": null,
   "id": "e3f6d57c",
   "metadata": {},
   "outputs": [],
   "source": [
    "artist_df = pd.read_sql('SELECT * FROM artists ORDER BY popularity DESC', engine)\n",
    "\n",
    "artist_df['genres'] = artist_df['genres'].apply(lambda x: x[1:-1].split(','))"
   ]
  },
  {
   "cell_type": "code",
   "execution_count": null,
   "id": "6816e7a7",
   "metadata": {},
   "outputs": [],
   "source": [
    "#######\n",
    "artist_df['genres'] = [list_cleaner(genre_list) for genre_list in artist_df['genres']]"
   ]
  },
  {
   "cell_type": "code",
   "execution_count": null,
   "id": "5b9c2b0e",
   "metadata": {},
   "outputs": [],
   "source": [
    "artist_df['genres']"
   ]
  },
  {
   "cell_type": "code",
   "execution_count": null,
   "id": "5b245c9e",
   "metadata": {},
   "outputs": [],
   "source": [
    "artist_df['genres'][0]"
   ]
  },
  {
   "cell_type": "code",
   "execution_count": null,
   "id": "9b9a19c0",
   "metadata": {},
   "outputs": [],
   "source": [
    "popular_artists = artist_df[artist_df.popularity >= 70]\n",
    "popular_artists"
   ]
  },
  {
   "cell_type": "code",
   "execution_count": null,
   "id": "34fa81a9",
   "metadata": {},
   "outputs": [],
   "source": [
    "popular_artist_genres_lists = popular_artists['genres'].tolist()"
   ]
  },
  {
   "cell_type": "code",
   "execution_count": null,
   "id": "53082896",
   "metadata": {
    "scrolled": true,
    "tags": []
   },
   "outputs": [],
   "source": [
    "popular_artist_genres_lists"
   ]
  },
  {
   "cell_type": "code",
   "execution_count": null,
   "id": "12a02ef1",
   "metadata": {},
   "outputs": [],
   "source": [
    "def list_combiner(list_of_lists):\n",
    "    \n",
    "    for i in list_of_lists[1:]:\n",
    "        list_of_lists[0].extend(i)\n",
    "        \n",
    "    return list_of_lists[0]"
   ]
  },
  {
   "cell_type": "code",
   "execution_count": null,
   "id": "7eef15e5",
   "metadata": {
    "scrolled": true,
    "tags": []
   },
   "outputs": [],
   "source": [
    "popular_artist_genres = pd.DataFrame({'genre':list_combiner(popular_artist_genres_lists)})"
   ]
  },
  {
   "cell_type": "code",
   "execution_count": null,
   "id": "1ad9e94c",
   "metadata": {},
   "outputs": [],
   "source": [
    "popular_artist_genres"
   ]
  },
  {
   "cell_type": "markdown",
   "id": "de40fb9b",
   "metadata": {},
   "source": [
    "## Genre Counts for All Artists with Popularity Level of 70 or Above"
   ]
  },
  {
   "cell_type": "code",
   "execution_count": null,
   "id": "fff6d64f",
   "metadata": {},
   "outputs": [],
   "source": [
    "# popular_genre_instances = popular_artist_genres['genre'].value_counts().rename_axis('unique_genres').reset_index(name='counts')\n",
    "# popular_genre_instances = popular_artist_genres['genre'].value_counts().rename_axis('unique_genres').reset_index(name='counts').replace(r'^\\s*$', np.NaN, regex=True)\n",
    "popular_genre_instances = popular_artist_genres['genre'].value_counts().rename_axis('unique_genres').reset_index(name='counts').replace(r'^\\s*$', 'no_genre', regex=True)\n",
    "popular_genre_instances"
   ]
  },
  {
   "cell_type": "code",
   "execution_count": null,
   "id": "b9b5c723",
   "metadata": {},
   "outputs": [],
   "source": [
    "popular_genre_instances.unique_genres[26]"
   ]
  },
  {
   "cell_type": "code",
   "execution_count": null,
   "id": "b78be1d9",
   "metadata": {},
   "outputs": [],
   "source": [
    "top_genres_popular_artists = popular_genre_instances.head(50)"
   ]
  },
  {
   "cell_type": "code",
   "execution_count": null,
   "id": "3d5d3418",
   "metadata": {},
   "outputs": [],
   "source": [
    "plt.figure(facecolor='white')\n",
    "fig, ax = plt.subplots(figsize=(30,10))\n",
    "\n",
    "sns.barplot(x=top_genres_popular_artists['unique_genres'], y=top_genres_popular_artists['counts'])\n",
    "\n",
    "plt.xticks(rotation=90)\n",
    "plt.title('Top 50 Genres of Music Among Artists with Popularity Level of 70 or Above')"
   ]
  },
  {
   "cell_type": "markdown",
   "id": "yellow-crash",
   "metadata": {},
   "source": [
    "Same thing as above, but with Spark:"
   ]
  }
 ],
 "metadata": {
  "kernelspec": {
   "display_name": "Python 3",
   "language": "python",
   "name": "python3"
  },
  "language_info": {
   "codemirror_mode": {
    "name": "ipython",
    "version": 3
   },
   "file_extension": ".py",
   "mimetype": "text/x-python",
   "name": "python",
   "nbconvert_exporter": "python",
   "pygments_lexer": "ipython3",
   "version": "3.8.8"
  }
 },
 "nbformat": 4,
 "nbformat_minor": 5
}
